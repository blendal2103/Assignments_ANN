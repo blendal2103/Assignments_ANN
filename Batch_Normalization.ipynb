{
 "cells": [
  {
   "cell_type": "markdown",
   "metadata": {},
   "source": [
    "## Theory :"
   ]
  },
  {
   "cell_type": "markdown",
   "metadata": {},
   "source": [
    "#### 1 Explain the concept of batch normalization in the context of Artificial Neural Networks ?\n",
    "\n",
    "   - Normalization : Normlization is a pre-processing tool used to bring a numerical data into a common scale without distorting it's scale.\n",
    "    \n",
    "    Batch Normalization is a process to make neural network faster and more stable by adding extra layers in deep neural network.\n",
    "    The new layer performs the Standardizing or Scaling operation on the input coming from previous layer.\n",
    "\n",
    "    Typically a neural network is trained on a collection set of input data is called the Batch. Similarly the Batch Normalization Process is performed on batches .\n",
    "\n",
    "    Normalization is a process of converting our input distribution in such a way that it's mean will become zero and standard deviation becomes 1.\n",
    "    Normally the output of Hiddden layers are Normalized. \n",
    "\n",
    "\n"
   ]
  },
  {
   "cell_type": "markdown",
   "metadata": {},
   "source": [
    "#### 2. Describe the benefits of using batch normalization during training ?\n",
    "\n",
    " Benefits of Batch Normalization :\n",
    "   1. It Speeds up the training process : By normalizing the hidden layers input , then it is easier for computation for the next layer.In this way the computation speed increases.\n",
    "\n",
    "   2. Internal Covarient Shift : According to Reseracher's , the Batch Normalization does not solve the problem of Internal Covarient shift.\n",
    "\n",
    "   3. Stability : It incrases the Stability of model.\n",
    "   \n",
    "   4. Smoothens the Loss Function :  Batch Normalization smoothens the loss function by optimizing the model parameters improves training speed of a model."
   ]
  },
  {
   "cell_type": "markdown",
   "metadata": {},
   "source": [
    "### 3.Discuss the working principle of batch normalization, including the normalization step and the learnable parameters.\n",
    "\n",
    "##### Batch Normalization works in two steps :\n",
    "   1. Normalization step\n",
    "   2. Learnable Parameters\n",
    "\n",
    "##### 1. Normalization Step :\n",
    "\n",
    "For a given layer, the following steps are performed on a Batch in Normalization Step :\n",
    "1. Calculate mean and variance :  The variance and mean is calculated  using the Mini Batch data.\n",
    "2. Normalize : Now normalize the batch data by subtracting from mean and then dividing by the standard deviation.\n",
    "\n",
    "##### 2. Scaling and Shifting(Learnable Parameters) :\n",
    "\n",
    "To reintroduce the the models ability to learn different scales we add the two parameters to the Normalized outputs which are learnable (γ and β).\n",
    "Now the formula becomes :\n",
    "\n",
    "   y = γ * ( X_normalized ) + β\n",
    "\n",
    "   where γ , β are the hyperparameters which are learnable .\n",
    "\n"
   ]
  },
  {
   "cell_type": "markdown",
   "metadata": {},
   "source": [
    "### Implementation"
   ]
  },
  {
   "cell_type": "markdown",
   "metadata": {},
   "source": [
    "##### 1. Data Collection"
   ]
  },
  {
   "cell_type": "code",
   "execution_count": 1,
   "metadata": {},
   "outputs": [],
   "source": [
    "from tensorflow.keras.datasets.mnist import load_data"
   ]
  },
  {
   "cell_type": "code",
   "execution_count": 2,
   "metadata": {},
   "outputs": [
    {
     "name": "stdout",
     "output_type": "stream",
     "text": [
      "A local file was found, but it seems to be incomplete or outdated because the auto file hash does not match the original value of 731c5ac602752760c8e48fbffcf8c3b850d9dc2a2aedcf2cc48468fc17b673d1 so we will re-download the data.\n",
      "Downloading data from https://storage.googleapis.com/tensorflow/tf-keras-datasets/mnist.npz\n",
      "11490434/11490434 [==============================] - 37s 3us/step\n"
     ]
    }
   ],
   "source": [
    "(X_train_full,y_train_full),(X_test,y_test)=load_data()"
   ]
  },
  {
   "cell_type": "markdown",
   "metadata": {},
   "source": [
    "##### 2. Preprocess the Data"
   ]
  },
  {
   "cell_type": "code",
   "execution_count": 5,
   "metadata": {},
   "outputs": [
    {
     "data": {
      "text/plain": [
       "((60000, 28, 28), (10000, 28, 28))"
      ]
     },
     "execution_count": 5,
     "metadata": {},
     "output_type": "execute_result"
    }
   ],
   "source": [
    "X_train_full.shape,X_test.shape"
   ]
  },
  {
   "cell_type": "code",
   "execution_count": null,
   "metadata": {},
   "outputs": [],
   "source": [
    "X_train_full=X_train_full/255\n",
    "X_test=X_test/255"
   ]
  },
  {
   "cell_type": "markdown",
   "metadata": {},
   "source": [
    "##### 3. Visualizing the some data "
   ]
  },
  {
   "cell_type": "code",
   "execution_count": 6,
   "metadata": {},
   "outputs": [],
   "source": [
    "import matplotlib.pyplot as plt"
   ]
  },
  {
   "cell_type": "code",
   "execution_count": 13,
   "metadata": {},
   "outputs": [
    {
     "data": {
      "image/png": "[encoded data removed]",
      "text/plain": [
       "<Figure size 1200x1200 with 6 Axes>"
      ]
     },
     "metadata": {},
     "output_type": "display_data"
    }
   ],
   "source": [
    "fig=plt.figure(figsize=(12,12))\n",
    "for i in range(6):\n",
    "    ax=plt.subplot(2,3,i+1)\n",
    "    ax.imshow(X_train_full[i],cmap='binary')"
   ]
  },
  {
   "cell_type": "markdown",
   "metadata": {},
   "source": [
    "##### 4. Splitting training data into training and validation data"
   ]
  },
  {
   "cell_type": "code",
   "execution_count": 14,
   "metadata": {},
   "outputs": [],
   "source": [
    "X_valid,X_train=X_train_full[:5000],X_train_full[5000:]\n",
    "y_valid,y_train=y_train_full[:5000],y_train_full[5000:]"
   ]
  },
  {
   "cell_type": "markdown",
   "metadata": {},
   "source": [
    "##### 5. Building and Training a Model without Batch Normalization"
   ]
  },
  {
   "cell_type": "code",
   "execution_count": 15,
   "metadata": {},
   "outputs": [],
   "source": [
    "from tensorflow.keras.models import Sequential\n",
    "from tensorflow.keras.layers import Dense , Flatten, BatchNormalization\n"
   ]
  },
  {
   "cell_type": "code",
   "execution_count": 29,
   "metadata": {},
   "outputs": [],
   "source": [
    "## Defining a model\n",
    "model=Sequential()"
   ]
  },
  {
   "cell_type": "code",
   "execution_count": 30,
   "metadata": {},
   "outputs": [],
   "source": [
    "## Adding layers\n",
    "model.add(Flatten(input_shape=(28,28)))\n",
    "model.add(Dense(300,activation='relu'))\n",
    "model.add(Dense(100,activation='relu'))\n",
    "model.add(Dense(10,activation='softmax'))"
   ]
  },
  {
   "cell_type": "code",
   "execution_count": 31,
   "metadata": {},
   "outputs": [
    {
     "name": "stdout",
     "output_type": "stream",
     "text": [
      "Model: \"sequential_3\"\n",
      "_________________________________________________________________\n",
      " Layer (type)                Output Shape              Param #   \n",
      "=================================================================\n",
      " flatten_3 (Flatten)         (None, 784)               0         \n",
      "                                                                 \n",
      " dense_7 (Dense)             (None, 300)               235500    \n",
      "                                                                 \n",
      " dense_8 (Dense)             (None, 100)               30100     \n",
      "                                                                 \n",
      " dense_9 (Dense)             (None, 10)                1010      \n",
      "                                                                 \n",
      "=================================================================\n",
      "Total params: 266,610\n",
      "Trainable params: 266,610\n",
      "Non-trainable params: 0\n",
      "_________________________________________________________________\n"
     ]
    }
   ],
   "source": [
    "model.summary()"
   ]
  },
  {
   "cell_type": "code",
   "execution_count": 32,
   "metadata": {},
   "outputs": [],
   "source": [
    "## Compiling a model\n",
    "model.compile(loss='sparse_categorical_crossentropy',optimizer='adam',metrics=['accuracy'])"
   ]
  },
  {
   "cell_type": "code",
   "execution_count": 33,
   "metadata": {},
   "outputs": [
    {
     "name": "stdout",
     "output_type": "stream",
     "text": [
      "Epoch 1/8\n"
     ]
    },
    {
     "name": "stdout",
     "output_type": "stream",
     "text": [
      "1719/1719 [==============================] - 11s 6ms/step - loss: 1.5155 - accuracy: 0.8472 - val_loss: 0.4016 - val_accuracy: 0.9060\n",
      "Epoch 2/8\n",
      "1719/1719 [==============================] - 9s 5ms/step - loss: 0.3424 - accuracy: 0.9138 - val_loss: 0.3197 - val_accuracy: 0.9268\n",
      "Epoch 3/8\n",
      "1719/1719 [==============================] - 9s 5ms/step - loss: 0.2236 - accuracy: 0.9406 - val_loss: 0.2588 - val_accuracy: 0.9432\n",
      "Epoch 4/8\n",
      "1719/1719 [==============================] - 10s 6ms/step - loss: 0.1806 - accuracy: 0.9535 - val_loss: 0.1818 - val_accuracy: 0.9552\n",
      "Epoch 5/8\n",
      "1719/1719 [==============================] - 8s 5ms/step - loss: 0.1505 - accuracy: 0.9609 - val_loss: 0.1625 - val_accuracy: 0.9634\n",
      "Epoch 6/8\n",
      "1719/1719 [==============================] - 9s 5ms/step - loss: 0.1273 - accuracy: 0.9669 - val_loss: 0.1283 - val_accuracy: 0.9684\n",
      "Epoch 7/8\n",
      "1719/1719 [==============================] - 9s 5ms/step - loss: 0.1195 - accuracy: 0.9697 - val_loss: 0.1531 - val_accuracy: 0.9664\n",
      "Epoch 8/8\n",
      "1719/1719 [==============================] - 9s 5ms/step - loss: 0.1097 - accuracy: 0.9726 - val_loss: 0.1437 - val_accuracy: 0.9674\n"
     ]
    },
    {
     "data": {
      "text/plain": [
       "<keras.callbacks.History at 0x28e4482d8d0>"
      ]
     },
     "execution_count": 33,
     "metadata": {},
     "output_type": "execute_result"
    }
   ],
   "source": [
    "## Training a model\n",
    "model.fit(X_train,y_train,epochs=8,verbose=1,validation_data=(X_valid,y_valid))"
   ]
  },
  {
   "cell_type": "code",
   "execution_count": 34,
   "metadata": {},
   "outputs": [
    {
     "name": "stdout",
     "output_type": "stream",
     "text": [
      "313/313 [==============================] - 1s 4ms/step - loss: 0.1741 - accuracy: 0.9633\n"
     ]
    },
    {
     "data": {
      "text/plain": [
       "[0.17406995594501495, 0.9632999897003174]"
      ]
     },
     "execution_count": 34,
     "metadata": {},
     "output_type": "execute_result"
    }
   ],
   "source": [
    "### Evaluating the Model \n",
    "model.evaluate(X_test,y_test)"
   ]
  },
  {
   "cell_type": "markdown",
   "metadata": {},
   "source": [
    "##### 6. Building and Training a model with Batch Normalization"
   ]
  },
  {
   "cell_type": "code",
   "execution_count": 35,
   "metadata": {},
   "outputs": [],
   "source": [
    "## Defining a model\n",
    "model_1=Sequential()"
   ]
  },
  {
   "cell_type": "code",
   "execution_count": 36,
   "metadata": {},
   "outputs": [],
   "source": [
    "## Adding layers\n",
    "model_1.add(Flatten(input_shape=(28,28)))\n",
    "model_1.add(Dense(300,activation='relu'))\n",
    "model_1.add(BatchNormalization())\n",
    "model_1.add(Dense(100,activation='relu'))\n",
    "model_1.add(BatchNormalization())\n",
    "model_1.add(Dense(10,activation='softmax'))"
   ]
  },
  {
   "cell_type": "code",
   "execution_count": 38,
   "metadata": {},
   "outputs": [
    {
     "name": "stdout",
     "output_type": "stream",
     "text": [
      "Epoch 1/8\n",
      "1719/1719 [==============================] - 13s 7ms/step - loss: 0.2229 - accuracy: 0.9325 - val_loss: 0.1211 - val_accuracy: 0.9658\n",
      "Epoch 2/8\n",
      "1719/1719 [==============================] - 11s 7ms/step - loss: 0.1123 - accuracy: 0.9650 - val_loss: 0.1283 - val_accuracy: 0.9692\n",
      "Epoch 3/8\n",
      "1719/1719 [==============================] - 12s 7ms/step - loss: 0.0864 - accuracy: 0.9723 - val_loss: 0.1300 - val_accuracy: 0.9772\n",
      "Epoch 4/8\n",
      "1719/1719 [==============================] - 12s 7ms/step - loss: 0.0689 - accuracy: 0.9778 - val_loss: 0.1765 - val_accuracy: 0.9762\n",
      "Epoch 5/8\n",
      "1719/1719 [==============================] - 13s 7ms/step - loss: 0.0595 - accuracy: 0.9803 - val_loss: 0.1015 - val_accuracy: 0.9764\n",
      "Epoch 6/8\n",
      "1719/1719 [==============================] - 10s 6ms/step - loss: 0.0498 - accuracy: 0.9837 - val_loss: 0.1229 - val_accuracy: 0.9764\n",
      "Epoch 7/8\n",
      "1719/1719 [==============================] - 11s 6ms/step - loss: 0.0431 - accuracy: 0.9855 - val_loss: 0.1473 - val_accuracy: 0.9792\n",
      "Epoch 8/8\n",
      "1719/1719 [==============================] - 11s 7ms/step - loss: 0.0379 - accuracy: 0.9875 - val_loss: 0.1754 - val_accuracy: 0.9752\n"
     ]
    },
    {
     "data": {
      "text/plain": [
       "<keras.callbacks.History at 0x28e4b1abdc0>"
      ]
     },
     "execution_count": 38,
     "metadata": {},
     "output_type": "execute_result"
    }
   ],
   "source": [
    "## Compiling a model\n",
    "model_1.compile(loss='sparse_categorical_crossentropy',optimizer='adam',metrics=['accuracy'])\n",
    "\n",
    "## Training a model\n",
    "model_1.fit(X_train,y_train,epochs=8,verbose=1,validation_data=(X_valid,y_valid))"
   ]
  },
  {
   "cell_type": "code",
   "execution_count": 39,
   "metadata": {},
   "outputs": [
    {
     "name": "stdout",
     "output_type": "stream",
     "text": [
      "313/313 [==============================] - 1s 4ms/step - loss: 0.1017 - accuracy: 0.9759\n"
     ]
    },
    {
     "data": {
      "text/plain": [
       "[0.1017298698425293, 0.9758999943733215]"
      ]
     },
     "execution_count": 39,
     "metadata": {},
     "output_type": "execute_result"
    }
   ],
   "source": [
    "## Evaluate the Model\n",
    "model_1.evaluate(X_test,y_test)"
   ]
  },
  {
   "cell_type": "markdown",
   "metadata": {},
   "source": [
    "##### 7. Now testing the Batch Normalization on Different Batch Sizes \n",
    "\n",
    "    "
   ]
  },
  {
   "cell_type": "markdown",
   "metadata": {},
   "source": [
    "Batch_size=64"
   ]
  },
  {
   "cell_type": "code",
   "execution_count": 41,
   "metadata": {},
   "outputs": [
    {
     "name": "stdout",
     "output_type": "stream",
     "text": [
      "Epoch 1/8\n",
      "860/860 [==============================] - 8s 7ms/step - loss: 0.2073 - accuracy: 0.9387 - val_loss: 0.1077 - val_accuracy: 0.9660\n",
      "Epoch 2/8\n",
      "860/860 [==============================] - 7s 8ms/step - loss: 0.0899 - accuracy: 0.9724 - val_loss: 0.0925 - val_accuracy: 0.9722\n",
      "Epoch 3/8\n",
      "860/860 [==============================] - 6s 7ms/step - loss: 0.0642 - accuracy: 0.9793 - val_loss: 0.0851 - val_accuracy: 0.9732\n",
      "Epoch 4/8\n",
      "860/860 [==============================] - 6s 7ms/step - loss: 0.0505 - accuracy: 0.9836 - val_loss: 0.0804 - val_accuracy: 0.9766\n",
      "Epoch 5/8\n",
      "860/860 [==============================] - 6s 7ms/step - loss: 0.0436 - accuracy: 0.9865 - val_loss: 0.0860 - val_accuracy: 0.9774\n",
      "Epoch 6/8\n",
      "860/860 [==============================] - 6s 7ms/step - loss: 0.0340 - accuracy: 0.9887 - val_loss: 0.0869 - val_accuracy: 0.9768\n",
      "Epoch 7/8\n",
      "860/860 [==============================] - 6s 7ms/step - loss: 0.0306 - accuracy: 0.9897 - val_loss: 0.0845 - val_accuracy: 0.9776\n",
      "Epoch 8/8\n",
      "860/860 [==============================] - 6s 7ms/step - loss: 0.0253 - accuracy: 0.9913 - val_loss: 0.0678 - val_accuracy: 0.9828\n"
     ]
    },
    {
     "data": {
      "text/plain": [
       "<keras.callbacks.History at 0x28e4ce515a0>"
      ]
     },
     "execution_count": 41,
     "metadata": {},
     "output_type": "execute_result"
    }
   ],
   "source": [
    "## Defining a model\n",
    "model_1=Sequential()\n",
    "\n",
    "## Adding layers\n",
    "model_1.add(Flatten(input_shape=(28,28)))\n",
    "model_1.add(Dense(300,activation='relu'))\n",
    "\n",
    "## Adding batch Normalization for Hidden Layer 1\n",
    "model_1.add(BatchNormalization())\n",
    "model_1.add(Dense(100,activation='relu'))\n",
    "\n",
    "## Adding batch Normalization for Hidden Layer 2\n",
    "model_1.add(BatchNormalization())\n",
    "model_1.add(Dense(10,activation='softmax'))\n",
    "\n",
    "## Compiling a model\n",
    "model_1.compile(loss='sparse_categorical_crossentropy',optimizer='adam',metrics=['accuracy'])\n",
    "\n",
    "## Training a model\n",
    "model_1.fit(X_train,y_train,epochs=8,verbose=1,validation_data=(X_valid,y_valid),batch_size=64)"
   ]
  },
  {
   "cell_type": "code",
   "execution_count": 43,
   "metadata": {},
   "outputs": [
    {
     "name": "stdout",
     "output_type": "stream",
     "text": [
      "313/313 [==============================] - 1s 4ms/step - loss: 0.0712 - accuracy: 0.9802\n"
     ]
    },
    {
     "data": {
      "text/plain": [
       "[0.07124219089746475, 0.9801999926567078]"
      ]
     },
     "execution_count": 43,
     "metadata": {},
     "output_type": "execute_result"
    }
   ],
   "source": [
    "model_1.evaluate(X_test,y_test)"
   ]
  },
  {
   "cell_type": "markdown",
   "metadata": {},
   "source": [
    "Batch size=100"
   ]
  },
  {
   "cell_type": "code",
   "execution_count": 44,
   "metadata": {},
   "outputs": [
    {
     "name": "stdout",
     "output_type": "stream",
     "text": [
      "Epoch 1/8\n",
      "550/550 [==============================] - 6s 9ms/step - loss: 0.2085 - accuracy: 0.9374 - val_loss: 0.1070 - val_accuracy: 0.9704\n",
      "Epoch 2/8\n",
      "550/550 [==============================] - 4s 8ms/step - loss: 0.0849 - accuracy: 0.9737 - val_loss: 0.0770 - val_accuracy: 0.9768\n",
      "Epoch 3/8\n",
      "550/550 [==============================] - 4s 8ms/step - loss: 0.0557 - accuracy: 0.9821 - val_loss: 0.0890 - val_accuracy: 0.9756\n",
      "Epoch 4/8\n",
      "550/550 [==============================] - 5s 9ms/step - loss: 0.0405 - accuracy: 0.9871 - val_loss: 0.0902 - val_accuracy: 0.9786\n",
      "Epoch 5/8\n",
      "550/550 [==============================] - 5s 9ms/step - loss: 0.0325 - accuracy: 0.9899 - val_loss: 0.0911 - val_accuracy: 0.9764\n",
      "Epoch 6/8\n",
      "550/550 [==============================] - 4s 8ms/step - loss: 0.0274 - accuracy: 0.9910 - val_loss: 0.0761 - val_accuracy: 0.9780\n",
      "Epoch 7/8\n",
      "550/550 [==============================] - 4s 8ms/step - loss: 0.0232 - accuracy: 0.9923 - val_loss: 0.0782 - val_accuracy: 0.9798\n",
      "Epoch 8/8\n",
      "550/550 [==============================] - 5s 10ms/step - loss: 0.0190 - accuracy: 0.9941 - val_loss: 0.0719 - val_accuracy: 0.9808\n"
     ]
    },
    {
     "data": {
      "text/plain": [
       "<keras.callbacks.History at 0x28e4b397dc0>"
      ]
     },
     "execution_count": 44,
     "metadata": {},
     "output_type": "execute_result"
    }
   ],
   "source": [
    "## Defining a model\n",
    "model_2=Sequential()\n",
    "\n",
    "## Adding layers\n",
    "model_2.add(Flatten(input_shape=(28,28)))\n",
    "model_2.add(Dense(300,activation='relu'))\n",
    "model_2.add(BatchNormalization())\n",
    "model_2.add(Dense(100,activation='relu'))\n",
    "model_2.add(BatchNormalization())\n",
    "model_2.add(Dense(10,activation='softmax'))\n",
    "\n",
    "## Compiling a model\n",
    "model_2.compile(loss='sparse_categorical_crossentropy',optimizer='adam',metrics=['accuracy'])\n",
    "\n",
    "## Training a model\n",
    "model_2.fit(X_train,y_train,epochs=8,verbose=1,validation_data=(X_valid,y_valid),batch_size=100)"
   ]
  },
  {
   "cell_type": "code",
   "execution_count": 45,
   "metadata": {},
   "outputs": [
    {
     "name": "stdout",
     "output_type": "stream",
     "text": [
      "313/313 [==============================] - 1s 4ms/step - loss: 0.0943 - accuracy: 0.9748\n"
     ]
    },
    {
     "data": {
      "text/plain": [
       "[0.09432993084192276, 0.9747999906539917]"
      ]
     },
     "execution_count": 45,
     "metadata": {},
     "output_type": "execute_result"
    }
   ],
   "source": [
    "model_2.evaluate(X_test,y_test)"
   ]
  },
  {
   "cell_type": "code",
   "execution_count": null,
   "metadata": {},
   "outputs": [],
   "source": []
  }
 ],
 "metadata": {
  "kernelspec": {
   "display_name": "Python 3",
   "language": "python",
   "name": "python3"
  },
  "language_info": {
   "codemirror_mode": {
    "name": "ipython",
    "version": 3
   },
   "file_extension": ".py",
   "mimetype": "text/x-python",
   "name": "python",
   "nbconvert_exporter": "python",
   "pygments_lexer": "ipython3",
   "version": "3.10.11"
  },
  "orig_nbformat": 4
 },
 "nbformat": 4,
 "nbformat_minor": 2
}
