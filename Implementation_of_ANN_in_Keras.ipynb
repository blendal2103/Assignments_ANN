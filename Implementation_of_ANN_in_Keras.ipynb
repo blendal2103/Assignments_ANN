{
 "cells": [
  {
   "cell_type": "markdown",
   "metadata": {},
   "source": [
    "1. Installing tesorflow and keras and print their versions"
   ]
  },
  {
   "cell_type": "code",
   "execution_count": 1,
   "metadata": {},
   "outputs": [
    {
     "name": "stdout",
     "output_type": "stream",
     "text": [
      "Requirement already satisfied: tensorflow in c:\\users\\lenda\\anaconda3\\lib\\site-packages (2.13.0)\n",
      "Requirement already satisfied: tensorflow-intel==2.13.0 in c:\\users\\lenda\\anaconda3\\lib\\site-packages (from tensorflow) (2.13.0)\n",
      "Requirement already satisfied: absl-py>=1.0.0 in c:\\users\\lenda\\anaconda3\\lib\\site-packages (from tensorflow-intel==2.13.0->tensorflow) (1.4.0)\n",
      "Requirement already satisfied: astunparse>=1.6.0 in c:\\users\\lenda\\anaconda3\\lib\\site-packages (from tensorflow-intel==2.13.0->tensorflow) (1.6.3)\n",
      "Requirement already satisfied: flatbuffers>=23.1.21 in c:\\users\\lenda\\anaconda3\\lib\\site-packages (from tensorflow-intel==2.13.0->tensorflow) (23.5.26)\n",
      "Requirement already satisfied: gast<=0.4.0,>=0.2.1 in c:\\users\\lenda\\anaconda3\\lib\\site-packages (from tensorflow-intel==2.13.0->tensorflow) (0.4.0)\n",
      "Requirement already satisfied: google-pasta>=0.1.1 in c:\\users\\lenda\\anaconda3\\lib\\site-packages (from tensorflow-intel==2.13.0->tensorflow) (0.2.0)\n",
      "Requirement already satisfied: h5py>=2.9.0 in c:\\users\\lenda\\anaconda3\\lib\\site-packages (from tensorflow-intel==2.13.0->tensorflow) (3.7.0)\n",
      "Requirement already satisfied: libclang>=13.0.0 in c:\\users\\lenda\\anaconda3\\lib\\site-packages (from tensorflow-intel==2.13.0->tensorflow) (16.0.6)\n",
      "Requirement already satisfied: numpy<=1.24.3,>=1.22 in c:\\users\\lenda\\appdata\\roaming\\python\\python311\\site-packages (from tensorflow-intel==2.13.0->tensorflow) (1.24.1)\n",
      "Requirement already satisfied: opt-einsum>=2.3.2 in c:\\users\\lenda\\anaconda3\\lib\\site-packages (from tensorflow-intel==2.13.0->tensorflow) (3.3.0)\n",
      "Requirement already satisfied: packaging in c:\\users\\lenda\\appdata\\roaming\\python\\python311\\site-packages (from tensorflow-intel==2.13.0->tensorflow) (23.0)\n",
      "Requirement already satisfied: protobuf!=4.21.0,!=4.21.1,!=4.21.2,!=4.21.3,!=4.21.4,!=4.21.5,<5.0.0dev,>=3.20.3 in c:\\users\\lenda\\appdata\\roaming\\python\\python311\\site-packages (from tensorflow-intel==2.13.0->tensorflow) (3.20.3)\n",
      "Requirement already satisfied: setuptools in c:\\users\\lenda\\anaconda3\\lib\\site-packages (from tensorflow-intel==2.13.0->tensorflow) (67.8.0)\n",
      "Requirement already satisfied: six>=1.12.0 in c:\\users\\lenda\\appdata\\roaming\\python\\python311\\site-packages (from tensorflow-intel==2.13.0->tensorflow) (1.15.0)\n",
      "Requirement already satisfied: termcolor>=1.1.0 in c:\\users\\lenda\\anaconda3\\lib\\site-packages (from tensorflow-intel==2.13.0->tensorflow) (2.3.0)\n",
      "Requirement already satisfied: typing-extensions<4.6.0,>=3.6.6 in c:\\users\\lenda\\anaconda3\\lib\\site-packages (from tensorflow-intel==2.13.0->tensorflow) (4.5.0)\n",
      "Requirement already satisfied: wrapt>=1.11.0 in c:\\users\\lenda\\anaconda3\\lib\\site-packages (from tensorflow-intel==2.13.0->tensorflow) (1.14.1)\n",
      "Requirement already satisfied: grpcio<2.0,>=1.24.3 in c:\\users\\lenda\\anaconda3\\lib\\site-packages (from tensorflow-intel==2.13.0->tensorflow) (1.56.2)\n",
      "Requirement already satisfied: tensorboard<2.14,>=2.13 in c:\\users\\lenda\\anaconda3\\lib\\site-packages (from tensorflow-intel==2.13.0->tensorflow) (2.13.0)\n",
      "Requirement already satisfied: tensorflow-estimator<2.14,>=2.13.0 in c:\\users\\lenda\\anaconda3\\lib\\site-packages (from tensorflow-intel==2.13.0->tensorflow) (2.13.0)\n",
      "Requirement already satisfied: keras<2.14,>=2.13.1 in c:\\users\\lenda\\anaconda3\\lib\\site-packages (from tensorflow-intel==2.13.0->tensorflow) (2.13.1)\n",
      "Requirement already satisfied: tensorflow-io-gcs-filesystem>=0.23.1 in c:\\users\\lenda\\anaconda3\\lib\\site-packages (from tensorflow-intel==2.13.0->tensorflow) (0.31.0)\n",
      "Requirement already satisfied: wheel<1.0,>=0.23.0 in c:\\users\\lenda\\anaconda3\\lib\\site-packages (from astunparse>=1.6.0->tensorflow-intel==2.13.0->tensorflow) (0.38.4)\n",
      "Requirement already satisfied: google-auth<3,>=1.6.3 in c:\\users\\lenda\\anaconda3\\lib\\site-packages (from tensorboard<2.14,>=2.13->tensorflow-intel==2.13.0->tensorflow) (2.22.0)\n",
      "Requirement already satisfied: google-auth-oauthlib<1.1,>=0.5 in c:\\users\\lenda\\anaconda3\\lib\\site-packages (from tensorboard<2.14,>=2.13->tensorflow-intel==2.13.0->tensorflow) (1.0.0)\n",
      "Requirement already satisfied: markdown>=2.6.8 in c:\\users\\lenda\\anaconda3\\lib\\site-packages (from tensorboard<2.14,>=2.13->tensorflow-intel==2.13.0->tensorflow) (3.4.1)\n",
      "Requirement already satisfied: requests<3,>=2.21.0 in c:\\users\\lenda\\appdata\\roaming\\python\\python311\\site-packages (from tensorboard<2.14,>=2.13->tensorflow-intel==2.13.0->tensorflow) (2.28.2)\n",
      "Requirement already satisfied: tensorboard-data-server<0.8.0,>=0.7.0 in c:\\users\\lenda\\anaconda3\\lib\\site-packages (from tensorboard<2.14,>=2.13->tensorflow-intel==2.13.0->tensorflow) (0.7.1)\n",
      "Requirement already satisfied: werkzeug>=1.0.1 in c:\\users\\lenda\\appdata\\roaming\\python\\python311\\site-packages (from tensorboard<2.14,>=2.13->tensorflow-intel==2.13.0->tensorflow) (1.0.1)\n",
      "Requirement already satisfied: cachetools<6.0,>=2.0.0 in c:\\users\\lenda\\anaconda3\\lib\\site-packages (from google-auth<3,>=1.6.3->tensorboard<2.14,>=2.13->tensorflow-intel==2.13.0->tensorflow) (5.3.1)\n",
      "Requirement already satisfied: pyasn1-modules>=0.2.1 in c:\\users\\lenda\\anaconda3\\lib\\site-packages (from google-auth<3,>=1.6.3->tensorboard<2.14,>=2.13->tensorflow-intel==2.13.0->tensorflow) (0.2.8)\n",
      "Requirement already satisfied: rsa<5,>=3.1.4 in c:\\users\\lenda\\anaconda3\\lib\\site-packages (from google-auth<3,>=1.6.3->tensorboard<2.14,>=2.13->tensorflow-intel==2.13.0->tensorflow) (4.9)\n",
      "Requirement already satisfied: urllib3<2.0 in c:\\users\\lenda\\appdata\\roaming\\python\\python311\\site-packages (from google-auth<3,>=1.6.3->tensorboard<2.14,>=2.13->tensorflow-intel==2.13.0->tensorflow) (1.25.10)\n",
      "Requirement already satisfied: requests-oauthlib>=0.7.0 in c:\\users\\lenda\\anaconda3\\lib\\site-packages (from google-auth-oauthlib<1.1,>=0.5->tensorboard<2.14,>=2.13->tensorflow-intel==2.13.0->tensorflow) (1.3.1)\n",
      "Requirement already satisfied: charset-normalizer<4,>=2 in c:\\users\\lenda\\appdata\\roaming\\python\\python311\\site-packages (from requests<3,>=2.21.0->tensorboard<2.14,>=2.13->tensorflow-intel==2.13.0->tensorflow) (3.1.0)\n",
      "Requirement already satisfied: idna<4,>=2.5 in c:\\users\\lenda\\appdata\\roaming\\python\\python311\\site-packages (from requests<3,>=2.21.0->tensorboard<2.14,>=2.13->tensorflow-intel==2.13.0->tensorflow) (2.10)\n",
      "Requirement already satisfied: certifi>=2017.4.17 in c:\\users\\lenda\\appdata\\roaming\\python\\python311\\site-packages (from requests<3,>=2.21.0->tensorboard<2.14,>=2.13->tensorflow-intel==2.13.0->tensorflow) (2020.6.20)\n",
      "Requirement already satisfied: pyasn1<0.5.0,>=0.4.6 in c:\\users\\lenda\\anaconda3\\lib\\site-packages (from pyasn1-modules>=0.2.1->google-auth<3,>=1.6.3->tensorboard<2.14,>=2.13->tensorflow-intel==2.13.0->tensorflow) (0.4.8)\n",
      "Requirement already satisfied: oauthlib>=3.0.0 in c:\\users\\lenda\\anaconda3\\lib\\site-packages (from requests-oauthlib>=0.7.0->google-auth-oauthlib<1.1,>=0.5->tensorboard<2.14,>=2.13->tensorflow-intel==2.13.0->tensorflow) (3.2.2)\n"
     ]
    }
   ],
   "source": [
    "! pip install tensorflow"
   ]
  },
  {
   "cell_type": "code",
   "execution_count": 2,
   "metadata": {},
   "outputs": [
    {
     "name": "stdout",
     "output_type": "stream",
     "text": [
      "Requirement already satisfied: keras in c:\\users\\lenda\\anaconda3\\lib\\site-packages (2.13.1)\n"
     ]
    }
   ],
   "source": [
    "! pip install keras "
   ]
  },
  {
   "cell_type": "code",
   "execution_count": 3,
   "metadata": {},
   "outputs": [],
   "source": [
    "import keras\n",
    "import tensorflow as tf\n"
   ]
  },
  {
   "cell_type": "code",
   "execution_count": 4,
   "metadata": {},
   "outputs": [
    {
     "name": "stdout",
     "output_type": "stream",
     "text": [
      "2.12.0\n",
      "2.12.0\n"
     ]
    }
   ],
   "source": [
    "print(tf.__version__)\n",
    "print(keras.__version__)"
   ]
  },
  {
   "cell_type": "markdown",
   "metadata": {},
   "source": [
    "2. Load the wine quality dataset and explore it's dimension"
   ]
  },
  {
   "cell_type": "code",
   "execution_count": 5,
   "metadata": {},
   "outputs": [],
   "source": [
    "import pandas as pd\n",
    "import numpy as np"
   ]
  },
  {
   "cell_type": "code",
   "execution_count": 6,
   "metadata": {},
   "outputs": [],
   "source": [
    "## Reading the dataset\n",
    "df=pd.read_csv('./wine.csv')"
   ]
  },
  {
   "cell_type": "code",
   "execution_count": 7,
   "metadata": {},
   "outputs": [
    {
     "data": {
      "text/html": [
       "<div>\n",
       "<style scoped>\n",
       "    .dataframe tbody tr th:only-of-type {\n",
       "        vertical-align: middle;\n",
       "    }\n",
       "\n",
       "    .dataframe tbody tr th {\n",
       "        vertical-align: top;\n",
       "    }\n",
       "\n",
       "    .dataframe thead th {\n",
       "        text-align: right;\n",
       "    }\n",
       "</style>\n",
       "<table border=\"1\" class=\"dataframe\">\n",
       "  <thead>\n",
       "    <tr style=\"text-align: right;\">\n",
       "      <th></th>\n",
       "      <th>fixed acidity</th>\n",
       "      <th>volatile acidity</th>\n",
       "      <th>citric acid</th>\n",
       "      <th>residual sugar</th>\n",
       "      <th>chlorides</th>\n",
       "      <th>free sulfur dioxide</th>\n",
       "      <th>total sulfur dioxide</th>\n",
       "      <th>density</th>\n",
       "      <th>pH</th>\n",
       "      <th>sulphates</th>\n",
       "      <th>alcohol</th>\n",
       "      <th>quality</th>\n",
       "    </tr>\n",
       "  </thead>\n",
       "  <tbody>\n",
       "    <tr>\n",
       "      <th>0</th>\n",
       "      <td>7.4</td>\n",
       "      <td>0.70</td>\n",
       "      <td>0.00</td>\n",
       "      <td>1.9</td>\n",
       "      <td>0.076</td>\n",
       "      <td>11.0</td>\n",
       "      <td>34.0</td>\n",
       "      <td>0.9978</td>\n",
       "      <td>3.51</td>\n",
       "      <td>0.56</td>\n",
       "      <td>9.4</td>\n",
       "      <td>bad</td>\n",
       "    </tr>\n",
       "    <tr>\n",
       "      <th>1</th>\n",
       "      <td>7.8</td>\n",
       "      <td>0.88</td>\n",
       "      <td>0.00</td>\n",
       "      <td>2.6</td>\n",
       "      <td>0.098</td>\n",
       "      <td>25.0</td>\n",
       "      <td>67.0</td>\n",
       "      <td>0.9968</td>\n",
       "      <td>3.20</td>\n",
       "      <td>0.68</td>\n",
       "      <td>9.8</td>\n",
       "      <td>bad</td>\n",
       "    </tr>\n",
       "    <tr>\n",
       "      <th>2</th>\n",
       "      <td>7.8</td>\n",
       "      <td>0.76</td>\n",
       "      <td>0.04</td>\n",
       "      <td>2.3</td>\n",
       "      <td>0.092</td>\n",
       "      <td>15.0</td>\n",
       "      <td>54.0</td>\n",
       "      <td>0.9970</td>\n",
       "      <td>3.26</td>\n",
       "      <td>0.65</td>\n",
       "      <td>9.8</td>\n",
       "      <td>bad</td>\n",
       "    </tr>\n",
       "    <tr>\n",
       "      <th>3</th>\n",
       "      <td>11.2</td>\n",
       "      <td>0.28</td>\n",
       "      <td>0.56</td>\n",
       "      <td>1.9</td>\n",
       "      <td>0.075</td>\n",
       "      <td>17.0</td>\n",
       "      <td>60.0</td>\n",
       "      <td>0.9980</td>\n",
       "      <td>3.16</td>\n",
       "      <td>0.58</td>\n",
       "      <td>9.8</td>\n",
       "      <td>good</td>\n",
       "    </tr>\n",
       "    <tr>\n",
       "      <th>4</th>\n",
       "      <td>7.4</td>\n",
       "      <td>0.70</td>\n",
       "      <td>0.00</td>\n",
       "      <td>1.9</td>\n",
       "      <td>0.076</td>\n",
       "      <td>11.0</td>\n",
       "      <td>34.0</td>\n",
       "      <td>0.9978</td>\n",
       "      <td>3.51</td>\n",
       "      <td>0.56</td>\n",
       "      <td>9.4</td>\n",
       "      <td>bad</td>\n",
       "    </tr>\n",
       "  </tbody>\n",
       "</table>\n",
       "</div>"
      ],
      "text/plain": [
       "   fixed acidity  volatile acidity  citric acid  residual sugar  chlorides  \\\n",
       "0            7.4              0.70         0.00             1.9      0.076   \n",
       "1            7.8              0.88         0.00             2.6      0.098   \n",
       "2            7.8              0.76         0.04             2.3      0.092   \n",
       "3           11.2              0.28         0.56             1.9      0.075   \n",
       "4            7.4              0.70         0.00             1.9      0.076   \n",
       "\n",
       "   free sulfur dioxide  total sulfur dioxide  density    pH  sulphates  \\\n",
       "0                 11.0                  34.0   0.9978  3.51       0.56   \n",
       "1                 25.0                  67.0   0.9968  3.20       0.68   \n",
       "2                 15.0                  54.0   0.9970  3.26       0.65   \n",
       "3                 17.0                  60.0   0.9980  3.16       0.58   \n",
       "4                 11.0                  34.0   0.9978  3.51       0.56   \n",
       "\n",
       "   alcohol quality  \n",
       "0      9.4     bad  \n",
       "1      9.8     bad  \n",
       "2      9.8     bad  \n",
       "3      9.8    good  \n",
       "4      9.4     bad  "
      ]
     },
     "execution_count": 7,
     "metadata": {},
     "output_type": "execute_result"
    }
   ],
   "source": [
    "df.head()"
   ]
  },
  {
   "cell_type": "code",
   "execution_count": 8,
   "metadata": {},
   "outputs": [
    {
     "data": {
      "text/plain": [
       "(1599, 12)"
      ]
     },
     "execution_count": 8,
     "metadata": {},
     "output_type": "execute_result"
    }
   ],
   "source": [
    "df.shape"
   ]
  },
  {
   "cell_type": "markdown",
   "metadata": {},
   "source": [
    "3. Check for null values, identify categorical variables, and encode them."
   ]
  },
  {
   "cell_type": "code",
   "execution_count": 9,
   "metadata": {},
   "outputs": [
    {
     "data": {
      "text/plain": [
       "fixed acidity           0\n",
       "volatile acidity        0\n",
       "citric acid             0\n",
       "residual sugar          0\n",
       "chlorides               0\n",
       "free sulfur dioxide     0\n",
       "total sulfur dioxide    0\n",
       "density                 0\n",
       "pH                      0\n",
       "sulphates               0\n",
       "alcohol                 0\n",
       "quality                 0\n",
       "dtype: int64"
      ]
     },
     "execution_count": 9,
     "metadata": {},
     "output_type": "execute_result"
    }
   ],
   "source": [
    "## Check for null\n",
    "df.isnull().sum()"
   ]
  },
  {
   "cell_type": "markdown",
   "metadata": {},
   "source": [
    "- No null values"
   ]
  },
  {
   "cell_type": "code",
   "execution_count": 10,
   "metadata": {},
   "outputs": [
    {
     "name": "stdout",
     "output_type": "stream",
     "text": [
      "<class 'pandas.core.frame.DataFrame'>\n",
      "RangeIndex: 1599 entries, 0 to 1598\n",
      "Data columns (total 12 columns):\n",
      " #   Column                Non-Null Count  Dtype  \n",
      "---  ------                --------------  -----  \n",
      " 0   fixed acidity         1599 non-null   float64\n",
      " 1   volatile acidity      1599 non-null   float64\n",
      " 2   citric acid           1599 non-null   float64\n",
      " 3   residual sugar        1599 non-null   float64\n",
      " 4   chlorides             1599 non-null   float64\n",
      " 5   free sulfur dioxide   1599 non-null   float64\n",
      " 6   total sulfur dioxide  1599 non-null   float64\n",
      " 7   density               1599 non-null   float64\n",
      " 8   pH                    1599 non-null   float64\n",
      " 9   sulphates             1599 non-null   float64\n",
      " 10  alcohol               1599 non-null   float64\n",
      " 11  quality               1599 non-null   object \n",
      "dtypes: float64(11), object(1)\n",
      "memory usage: 150.0+ KB\n"
     ]
    }
   ],
   "source": [
    "\n",
    "df.info()"
   ]
  },
  {
   "cell_type": "code",
   "execution_count": 11,
   "metadata": {},
   "outputs": [
    {
     "data": {
      "text/plain": [
       "array(['bad', 'good'], dtype=object)"
      ]
     },
     "execution_count": 11,
     "metadata": {},
     "output_type": "execute_result"
    }
   ],
   "source": [
    "df['quality'].unique()"
   ]
  },
  {
   "cell_type": "code",
   "execution_count": 12,
   "metadata": {},
   "outputs": [],
   "source": [
    "## Encoding the Categorical Features\n",
    "df['quality']=df['quality'].map({'good':1,'bad':0})"
   ]
  },
  {
   "cell_type": "code",
   "execution_count": 13,
   "metadata": {},
   "outputs": [
    {
     "data": {
      "text/plain": [
       "array([0, 1], dtype=int64)"
      ]
     },
     "execution_count": 13,
     "metadata": {},
     "output_type": "execute_result"
    }
   ],
   "source": [
    "df['quality'].unique()"
   ]
  },
  {
   "cell_type": "markdown",
   "metadata": {},
   "source": [
    "4. Separate the features and target variables from the dataframe."
   ]
  },
  {
   "cell_type": "code",
   "execution_count": 14,
   "metadata": {},
   "outputs": [],
   "source": [
    "X=df.drop(columns=['quality'])\n",
    "y=df['quality']"
   ]
  },
  {
   "cell_type": "markdown",
   "metadata": {},
   "source": [
    "5. Perform a train-test split and divide the data into training, validation, and test datasets."
   ]
  },
  {
   "cell_type": "code",
   "execution_count": 15,
   "metadata": {},
   "outputs": [],
   "source": [
    "from sklearn.model_selection import train_test_split"
   ]
  },
  {
   "cell_type": "code",
   "execution_count": 16,
   "metadata": {},
   "outputs": [],
   "source": [
    "X_train,X_test,y_train,y_test=train_test_split(X,y,test_size=0.20,random_state=21)"
   ]
  },
  {
   "cell_type": "code",
   "execution_count": 17,
   "metadata": {},
   "outputs": [
    {
     "data": {
      "text/plain": [
       "((320, 11), (1279, 11))"
      ]
     },
     "execution_count": 17,
     "metadata": {},
     "output_type": "execute_result"
    }
   ],
   "source": [
    "X_test.shape,X_train.shape"
   ]
  },
  {
   "cell_type": "markdown",
   "metadata": {},
   "source": [
    "6. Perform scaling on the dataset."
   ]
  },
  {
   "cell_type": "code",
   "execution_count": 18,
   "metadata": {},
   "outputs": [],
   "source": [
    "from sklearn.preprocessing import StandardScaler"
   ]
  },
  {
   "cell_type": "code",
   "execution_count": 19,
   "metadata": {},
   "outputs": [],
   "source": [
    "scaler=StandardScaler()\n",
    "X_train_scaled=scaler.fit_transform(X_train)\n",
    "X_test_scaled=scaler.transform(X_test)"
   ]
  },
  {
   "cell_type": "markdown",
   "metadata": {},
   "source": [
    "7. Create at least 2 hidden layers and an output layer for the binary categorical variables."
   ]
  },
  {
   "cell_type": "code",
   "execution_count": 20,
   "metadata": {},
   "outputs": [],
   "source": [
    "from tensorflow.keras.models import Sequential\n",
    "from tensorflow.keras.layers import Dense,Flatten\n",
    "from tensorflow.keras.callbacks import EarlyStopping,ModelCheckpoint,TensorBoard"
   ]
  },
  {
   "cell_type": "code",
   "execution_count": 21,
   "metadata": {},
   "outputs": [],
   "source": [
    "## Defining a Model\n",
    "model=Sequential()"
   ]
  },
  {
   "cell_type": "code",
   "execution_count": 22,
   "metadata": {},
   "outputs": [
    {
     "data": {
      "text/html": [
       "<div>\n",
       "<style scoped>\n",
       "    .dataframe tbody tr th:only-of-type {\n",
       "        vertical-align: middle;\n",
       "    }\n",
       "\n",
       "    .dataframe tbody tr th {\n",
       "        vertical-align: top;\n",
       "    }\n",
       "\n",
       "    .dataframe thead th {\n",
       "        text-align: right;\n",
       "    }\n",
       "</style>\n",
       "<table border=\"1\" class=\"dataframe\">\n",
       "  <thead>\n",
       "    <tr style=\"text-align: right;\">\n",
       "      <th></th>\n",
       "      <th>fixed acidity</th>\n",
       "      <th>volatile acidity</th>\n",
       "      <th>citric acid</th>\n",
       "      <th>residual sugar</th>\n",
       "      <th>chlorides</th>\n",
       "      <th>free sulfur dioxide</th>\n",
       "      <th>total sulfur dioxide</th>\n",
       "      <th>density</th>\n",
       "      <th>pH</th>\n",
       "      <th>sulphates</th>\n",
       "      <th>alcohol</th>\n",
       "    </tr>\n",
       "  </thead>\n",
       "  <tbody>\n",
       "    <tr>\n",
       "      <th>751</th>\n",
       "      <td>8.3</td>\n",
       "      <td>0.650</td>\n",
       "      <td>0.10</td>\n",
       "      <td>2.9</td>\n",
       "      <td>0.089</td>\n",
       "      <td>17.0</td>\n",
       "      <td>40.0</td>\n",
       "      <td>0.99803</td>\n",
       "      <td>3.29</td>\n",
       "      <td>0.55</td>\n",
       "      <td>9.5</td>\n",
       "    </tr>\n",
       "    <tr>\n",
       "      <th>370</th>\n",
       "      <td>6.9</td>\n",
       "      <td>0.765</td>\n",
       "      <td>0.02</td>\n",
       "      <td>2.3</td>\n",
       "      <td>0.063</td>\n",
       "      <td>35.0</td>\n",
       "      <td>63.0</td>\n",
       "      <td>0.99750</td>\n",
       "      <td>3.57</td>\n",
       "      <td>0.78</td>\n",
       "      <td>9.9</td>\n",
       "    </tr>\n",
       "    <tr>\n",
       "      <th>374</th>\n",
       "      <td>14.0</td>\n",
       "      <td>0.410</td>\n",
       "      <td>0.63</td>\n",
       "      <td>3.8</td>\n",
       "      <td>0.089</td>\n",
       "      <td>6.0</td>\n",
       "      <td>47.0</td>\n",
       "      <td>1.00140</td>\n",
       "      <td>3.01</td>\n",
       "      <td>0.81</td>\n",
       "      <td>10.8</td>\n",
       "    </tr>\n",
       "    <tr>\n",
       "      <th>537</th>\n",
       "      <td>8.1</td>\n",
       "      <td>0.825</td>\n",
       "      <td>0.24</td>\n",
       "      <td>2.1</td>\n",
       "      <td>0.084</td>\n",
       "      <td>5.0</td>\n",
       "      <td>13.0</td>\n",
       "      <td>0.99720</td>\n",
       "      <td>3.37</td>\n",
       "      <td>0.77</td>\n",
       "      <td>10.7</td>\n",
       "    </tr>\n",
       "    <tr>\n",
       "      <th>708</th>\n",
       "      <td>7.8</td>\n",
       "      <td>0.545</td>\n",
       "      <td>0.12</td>\n",
       "      <td>2.5</td>\n",
       "      <td>0.068</td>\n",
       "      <td>11.0</td>\n",
       "      <td>35.0</td>\n",
       "      <td>0.99600</td>\n",
       "      <td>3.34</td>\n",
       "      <td>0.61</td>\n",
       "      <td>11.6</td>\n",
       "    </tr>\n",
       "  </tbody>\n",
       "</table>\n",
       "</div>"
      ],
      "text/plain": [
       "     fixed acidity  volatile acidity  citric acid  residual sugar  chlorides  \\\n",
       "751            8.3             0.650         0.10             2.9      0.089   \n",
       "370            6.9             0.765         0.02             2.3      0.063   \n",
       "374           14.0             0.410         0.63             3.8      0.089   \n",
       "537            8.1             0.825         0.24             2.1      0.084   \n",
       "708            7.8             0.545         0.12             2.5      0.068   \n",
       "\n",
       "     free sulfur dioxide  total sulfur dioxide  density    pH  sulphates  \\\n",
       "751                 17.0                  40.0  0.99803  3.29       0.55   \n",
       "370                 35.0                  63.0  0.99750  3.57       0.78   \n",
       "374                  6.0                  47.0  1.00140  3.01       0.81   \n",
       "537                  5.0                  13.0  0.99720  3.37       0.77   \n",
       "708                 11.0                  35.0  0.99600  3.34       0.61   \n",
       "\n",
       "     alcohol  \n",
       "751      9.5  \n",
       "370      9.9  \n",
       "374     10.8  \n",
       "537     10.7  \n",
       "708     11.6  "
      ]
     },
     "execution_count": 22,
     "metadata": {},
     "output_type": "execute_result"
    }
   ],
   "source": [
    "X_train.head()"
   ]
  },
  {
   "cell_type": "code",
   "execution_count": 23,
   "metadata": {},
   "outputs": [],
   "source": [
    "model.add(Flatten(input_shape=(11,)))\n",
    "model.add(Dense(64,activation='relu'))\n",
    "model.add(Dense(32,activation='relu'))\n",
    "model.add(Dense(1,activation='sigmoid'))"
   ]
  },
  {
   "cell_type": "markdown",
   "metadata": {},
   "source": [
    "9. Print the model summary."
   ]
  },
  {
   "cell_type": "code",
   "execution_count": 24,
   "metadata": {},
   "outputs": [
    {
     "name": "stdout",
     "output_type": "stream",
     "text": [
      "Model: \"sequential\"\n",
      "_________________________________________________________________\n",
      " Layer (type)                Output Shape              Param #   \n",
      "=================================================================\n",
      " flatten (Flatten)           (None, 11)                0         \n",
      "                                                                 \n",
      " dense (Dense)               (None, 64)                768       \n",
      "                                                                 \n",
      " dense_1 (Dense)             (None, 32)                2080      \n",
      "                                                                 \n",
      " dense_2 (Dense)             (None, 1)                 33        \n",
      "                                                                 \n",
      "=================================================================\n",
      "Total params: 2,881\n",
      "Trainable params: 2,881\n",
      "Non-trainable params: 0\n",
      "_________________________________________________________________\n"
     ]
    }
   ],
   "source": [
    "model.summary()"
   ]
  },
  {
   "cell_type": "markdown",
   "metadata": {},
   "source": [
    "10. Use binary cross-entropy as the loss function, Adam optimizer, and include the metric ['accuracy']."
   ]
  },
  {
   "cell_type": "code",
   "execution_count": 25,
   "metadata": {},
   "outputs": [],
   "source": [
    "model.compile(loss='binary_crossentropy',optimizer='adam',metrics=['accuracy'])"
   ]
  },
  {
   "cell_type": "markdown",
   "metadata": {},
   "source": [
    "12. Fit the model to the data, incorporating the TensorBoard, Early Stopping, and ModelCheckpoint\n",
    "callbacks."
   ]
  },
  {
   "cell_type": "code",
   "execution_count": 27,
   "metadata": {},
   "outputs": [
    {
     "name": "stdout",
     "output_type": "stream",
     "text": [
      "Epoch 1/10\n",
      "55/55 [==============================] - 1s 7ms/step - loss: 0.6777 - accuracy: 0.6247 - val_loss: 0.7128 - val_accuracy: 0.5469\n",
      "Epoch 2/10\n",
      "55/55 [==============================] - 0s 3ms/step - loss: 0.6352 - accuracy: 0.6228 - val_loss: 0.6298 - val_accuracy: 0.6250\n",
      "Epoch 3/10\n",
      "55/55 [==============================] - 0s 2ms/step - loss: 0.6253 - accuracy: 0.6440 - val_loss: 0.6362 - val_accuracy: 0.6146\n",
      "Epoch 4/10\n",
      "55/55 [==============================] - 0s 3ms/step - loss: 0.6190 - accuracy: 0.6495 - val_loss: 0.6691 - val_accuracy: 0.6198\n",
      "Epoch 5/10\n",
      "55/55 [==============================] - 0s 3ms/step - loss: 0.6187 - accuracy: 0.6596 - val_loss: 0.6176 - val_accuracy: 0.6458\n",
      "Epoch 6/10\n",
      "55/55 [==============================] - 0s 2ms/step - loss: 0.6185 - accuracy: 0.6587 - val_loss: 0.6669 - val_accuracy: 0.6771\n",
      "Epoch 7/10\n",
      "55/55 [==============================] - 0s 3ms/step - loss: 0.6175 - accuracy: 0.6513 - val_loss: 0.6489 - val_accuracy: 0.6250\n",
      "Epoch 8/10\n",
      "55/55 [==============================] - 0s 3ms/step - loss: 0.6084 - accuracy: 0.6716 - val_loss: 0.6204 - val_accuracy: 0.6667\n",
      "Epoch 9/10\n",
      "55/55 [==============================] - 0s 3ms/step - loss: 0.5776 - accuracy: 0.6964 - val_loss: 0.5983 - val_accuracy: 0.6719\n",
      "Epoch 10/10\n",
      "55/55 [==============================] - 0s 3ms/step - loss: 0.5900 - accuracy: 0.6835 - val_loss: 0.6512 - val_accuracy: 0.6562\n"
     ]
    }
   ],
   "source": [
    "history=model.fit(X_train,y_train,validation_split=0.15,epochs=10,verbose=1,shuffle=True,batch_size=20)"
   ]
  },
  {
   "cell_type": "markdown",
   "metadata": {},
   "source": [
    "13. Obtain the Model Parameters"
   ]
  },
  {
   "cell_type": "code",
   "execution_count": 28,
   "metadata": {},
   "outputs": [
    {
     "data": {
      "text/plain": [
       "[array([[ 7.82281831e-02,  6.25760555e-02,  2.57358607e-02,\n",
       "          4.28367741e-02,  2.38424584e-01, -4.44519073e-02,\n",
       "         -1.37326624e-02, -1.25368237e-02, -2.31375754e-01,\n",
       "          4.36464548e-02, -1.56200349e-01,  1.33287162e-01,\n",
       "         -1.84333533e-01,  1.13625884e-01,  4.22419906e-02,\n",
       "         -2.60886222e-01, -4.75132614e-02, -2.67454207e-01,\n",
       "          2.32391223e-01, -2.21075967e-01, -1.44577920e-01,\n",
       "         -1.98488966e-01,  9.37408432e-02,  2.52586722e-01,\n",
       "          9.13210586e-02, -1.68289408e-01, -1.35275424e-01,\n",
       "          6.79065138e-02,  7.32248798e-02,  8.87801349e-02,\n",
       "          4.54732031e-02,  2.26216272e-01, -1.80989504e-03,\n",
       "         -1.75430819e-01, -1.21655457e-01,  3.76267433e-02,\n",
       "          1.81923464e-01,  1.78800970e-01, -2.24132128e-02,\n",
       "         -2.69965142e-01,  4.61865915e-03, -4.10578325e-02,\n",
       "         -2.87059471e-02,  2.26615369e-01, -9.34659988e-02,\n",
       "          6.82821944e-02, -2.29683131e-01,  2.45172694e-01,\n",
       "         -7.40603060e-02,  1.32101968e-01,  1.69646189e-01,\n",
       "          2.44297832e-01, -1.72367711e-02,  1.70283943e-01,\n",
       "          1.48351282e-01,  2.64943689e-01, -1.49082452e-01,\n",
       "         -2.55237818e-01, -5.66323921e-02,  1.93350479e-01,\n",
       "          9.34466496e-02, -1.26962975e-01,  2.06172049e-01,\n",
       "          1.49763077e-01],\n",
       "        [-8.27563554e-02, -1.44402936e-01, -2.56435156e-01,\n",
       "         -2.10503057e-01,  4.98430878e-01,  7.00028241e-02,\n",
       "          1.85065493e-01,  1.98144406e-01, -1.92498952e-01,\n",
       "         -4.74601388e-02, -7.43920654e-02, -2.46109128e-01,\n",
       "          1.13785625e-01,  1.84422612e-01, -1.82934120e-01,\n",
       "          1.22058786e-01,  1.10318601e-01, -1.67740420e-01,\n",
       "         -2.53615320e-01, -1.35049626e-01, -2.11803377e-01,\n",
       "         -8.97739679e-02,  3.38957816e-01,  2.60835528e-01,\n",
       "          3.90572429e-01,  1.29046589e-01, -6.82235733e-02,\n",
       "          2.57975012e-01,  9.29817185e-02,  1.60064995e-02,\n",
       "          1.41618922e-01, -3.17304134e-01,  1.64183885e-01,\n",
       "         -3.48836124e-01, -4.34799530e-02, -2.65423000e-01,\n",
       "         -1.12482542e-02,  1.66056782e-01, -3.94134708e-02,\n",
       "         -2.15010941e-02, -5.01349680e-02,  1.51713789e-01,\n",
       "         -1.15296524e-02, -4.01063830e-01,  3.01396996e-01,\n",
       "          3.88235718e-01, -6.94180280e-02,  8.30820501e-02,\n",
       "          5.43045998e-03, -1.85486078e-01, -5.54228947e-02,\n",
       "          1.41860381e-01, -3.46922308e-01,  2.56110817e-01,\n",
       "          4.26631480e-01, -2.68125504e-01, -1.20133698e-01,\n",
       "         -2.79806048e-01, -1.53016791e-01,  2.24670529e-01,\n",
       "         -3.80344428e-02,  1.76630497e-01, -4.84764308e-01,\n",
       "          3.45412165e-01],\n",
       "        [ 9.20245945e-02, -7.68517107e-02,  2.25792676e-01,\n",
       "         -2.19811559e-01, -3.99998546e-01,  4.50686812e-02,\n",
       "          9.48034376e-02, -2.21837685e-01, -2.28632033e-01,\n",
       "          1.14908956e-01,  1.36013672e-01,  1.39766157e-01,\n",
       "         -1.44539624e-01, -1.85171142e-01,  1.69734329e-01,\n",
       "         -3.23653728e-01, -2.71964788e-01,  6.28452599e-02,\n",
       "          3.08170825e-01,  1.17835188e-02,  2.75975138e-01,\n",
       "         -1.01984441e-01, -3.04262370e-01, -2.07145303e-01,\n",
       "         -2.79633999e-01, -2.15998158e-01,  3.36125612e-01,\n",
       "         -1.35937007e-02, -6.10322393e-02,  6.98655844e-02,\n",
       "          1.25117928e-01, -1.45842686e-01,  2.20274925e-02,\n",
       "         -1.28629759e-01, -2.52729535e-01, -1.31190196e-01,\n",
       "          2.34937862e-01,  9.74990129e-02, -1.94890738e-01,\n",
       "          1.21456832e-01, -1.49273828e-01, -2.30852902e-01,\n",
       "         -1.34942997e-02,  2.13243946e-01, -2.84435540e-01,\n",
       "          8.93708915e-02, -2.35872328e-01, -7.52549320e-02,\n",
       "          5.76127768e-02, -8.20821151e-03, -1.15988739e-01,\n",
       "          2.94790000e-01, -1.91262946e-01, -6.16820157e-02,\n",
       "         -2.64706463e-01, -2.79097527e-01,  1.68732107e-01,\n",
       "          1.33068115e-01,  7.77336955e-02, -2.21692443e-01,\n",
       "          3.07802111e-01, -1.16123810e-01,  5.37242770e-01,\n",
       "         -1.12509213e-01],\n",
       "        [-6.31120801e-02, -3.51449400e-02, -2.05036178e-01,\n",
       "          1.58179358e-01,  1.91108242e-01, -1.11859366e-01,\n",
       "         -2.26952791e-01,  1.35803342e-01,  2.29279548e-01,\n",
       "         -2.62423381e-02,  2.10406408e-01,  1.33186057e-01,\n",
       "         -1.50182113e-01,  1.15321666e-01, -4.08378094e-02,\n",
       "         -6.43357858e-02, -2.00788811e-01, -5.64700961e-02,\n",
       "          1.99925825e-01,  2.54955620e-01,  1.43742144e-01,\n",
       "          2.01820821e-01, -2.50028014e-01,  1.99084595e-01,\n",
       "          5.67891560e-02, -9.40522850e-02, -2.05412433e-01,\n",
       "          1.78966627e-01,  1.82842929e-02,  2.33656257e-01,\n",
       "          2.78384000e-01,  1.08867675e-01, -3.13046575e-02,\n",
       "         -1.37435257e-01, -1.64062604e-01, -1.91318840e-01,\n",
       "         -1.30630061e-01,  2.48255134e-02, -1.71897542e-02,\n",
       "         -9.69712734e-02,  1.36060610e-01,  2.46108204e-01,\n",
       "          2.46421248e-02, -1.91483572e-01, -1.91452220e-01,\n",
       "         -2.63661474e-01,  1.93912536e-01,  1.26193538e-01,\n",
       "         -1.01546928e-01,  2.43629903e-01, -8.57794732e-02,\n",
       "         -1.90410480e-01, -1.89333916e-01, -2.02422619e-01,\n",
       "         -2.53449708e-01, -6.49040639e-02, -2.73558199e-01,\n",
       "          2.81197459e-01, -2.84294307e-01, -1.73899695e-01,\n",
       "         -1.16598994e-01,  1.56945437e-01, -2.08059773e-01,\n",
       "         -2.38000393e-01],\n",
       "        [ 1.86960995e-01, -1.67861670e-01, -4.40047216e-03,\n",
       "          2.50535998e-02, -2.32114449e-01,  2.75012106e-01,\n",
       "         -1.31091908e-01, -2.37340316e-01,  1.97619200e-03,\n",
       "         -8.20337832e-02, -1.93489082e-02,  1.96743906e-02,\n",
       "         -1.01491705e-01,  2.27935880e-01,  1.99843973e-01,\n",
       "         -2.82190796e-02, -1.01695627e-01, -2.28024915e-01,\n",
       "         -2.28363231e-01,  8.87892842e-02, -1.22825965e-01,\n",
       "         -2.01509044e-01,  2.11714000e-01,  2.93241262e-01,\n",
       "         -1.82028785e-01, -9.11932439e-02, -1.69003144e-01,\n",
       "         -1.91942930e-01, -9.90750864e-02,  1.45931840e-02,\n",
       "          2.85817444e-01, -2.00493231e-01,  1.75387472e-01,\n",
       "          1.03327192e-01, -1.45017743e-01,  1.09817237e-01,\n",
       "         -1.22399613e-01,  1.91664577e-01,  6.40108390e-03,\n",
       "          4.69142199e-02, -2.31689155e-01,  5.69527596e-03,\n",
       "          2.84824669e-01, -1.36489764e-01, -1.25165895e-01,\n",
       "         -5.14461920e-02,  1.11381710e-01, -5.74829280e-02,\n",
       "          6.30823672e-02,  9.60897505e-02,  2.18352064e-01,\n",
       "         -3.22104216e-01, -3.57410520e-01,  8.93164575e-02,\n",
       "          1.15860470e-01, -5.10268211e-02, -1.90949306e-01,\n",
       "          6.70483708e-02,  1.64405406e-02, -1.22400336e-01,\n",
       "         -5.45291491e-02, -1.06136695e-01,  1.92938834e-01,\n",
       "          3.02253038e-01],\n",
       "        [-2.36269444e-01, -1.46475688e-01, -1.13732696e-01,\n",
       "          7.92178288e-02,  1.94950521e-01, -2.69625604e-01,\n",
       "         -5.06789908e-02, -8.03368241e-02, -1.67451590e-01,\n",
       "          7.15055466e-02, -3.24553810e-02,  2.01514453e-01,\n",
       "         -2.46034697e-01, -2.36704737e-01, -1.38602182e-01,\n",
       "         -1.12023756e-01, -2.03381002e-01, -7.91843534e-02,\n",
       "          4.60603237e-02, -3.03419352e-01, -1.28763214e-01,\n",
       "         -2.34124418e-02,  9.21963006e-02,  4.83561121e-02,\n",
       "          2.11488023e-01, -1.99896649e-01,  1.11709833e-01,\n",
       "         -9.85588282e-02,  2.52815545e-01, -1.44273251e-01,\n",
       "          3.65474001e-02, -1.43721282e-01, -2.31687784e-01,\n",
       "          1.59276366e-01, -1.43764094e-01, -2.73566097e-01,\n",
       "         -2.21144781e-02, -2.61797160e-01,  2.37157017e-01,\n",
       "         -1.98817253e-03,  7.33999833e-02,  9.84602496e-02,\n",
       "         -2.01280162e-01,  1.67680666e-01,  1.44626617e-01,\n",
       "         -8.58669281e-02, -1.11869067e-01, -3.04684132e-01,\n",
       "         -2.29385346e-01, -2.51369864e-01,  1.41082685e-02,\n",
       "         -1.52179912e-01,  1.78931639e-01,  8.93616378e-02,\n",
       "         -8.76319185e-02, -8.66066515e-02, -1.75407916e-01,\n",
       "         -1.79028690e-01,  1.48941591e-01,  1.93908349e-01,\n",
       "         -8.40238631e-02, -1.64388970e-01,  2.14883596e-01,\n",
       "          2.19687209e-01],\n",
       "        [ 2.66376376e-01, -2.68186420e-01,  4.05344218e-02,\n",
       "          1.53309420e-01, -1.76423475e-01,  1.79586112e-02,\n",
       "          7.27244839e-02, -2.11243123e-01, -9.70689803e-02,\n",
       "          5.28411614e-03,  3.25557180e-02, -1.34435177e-01,\n",
       "         -1.66771591e-01, -1.90809995e-01, -1.06080055e-01,\n",
       "          2.10845232e-01, -1.59942448e-01, -1.14225388e-01,\n",
       "          2.61832744e-01,  1.18032128e-01, -1.32146433e-01,\n",
       "         -8.05829316e-02,  1.78125739e-01,  2.27549791e-01,\n",
       "          2.53762066e-01, -1.98398709e-01,  1.14748634e-01,\n",
       "          2.08048999e-01, -1.77837357e-01, -1.75812930e-01,\n",
       "          2.94019654e-02,  1.01037607e-01, -2.17202067e-01,\n",
       "          1.09006807e-01, -1.08842380e-01, -1.12369642e-01,\n",
       "         -1.18487328e-01, -1.88357383e-01, -1.40766516e-01,\n",
       "         -2.81455249e-01,  9.24631879e-02,  1.49727896e-01,\n",
       "          7.52683580e-02, -2.52535731e-01,  3.51712219e-02,\n",
       "          1.52634522e-02,  6.19775057e-03, -1.54998958e-01,\n",
       "         -1.65177822e-01, -2.28102997e-01, -1.07912771e-01,\n",
       "          8.64197388e-02,  1.96898505e-01, -2.74013191e-01,\n",
       "          2.01851338e-01, -1.83578596e-01, -2.58438289e-02,\n",
       "         -5.30841947e-03,  2.59234458e-01, -2.31593996e-01,\n",
       "          1.75814182e-01, -1.33374289e-01, -1.37879595e-01,\n",
       "          7.30809197e-03],\n",
       "        [ 3.61087061e-02, -1.97282940e-01, -4.90609594e-02,\n",
       "         -6.40816614e-02,  2.06609696e-01,  8.29916596e-02,\n",
       "          1.19181402e-01, -2.26511478e-01,  1.55165881e-01,\n",
       "         -1.73111275e-01, -5.02367578e-02, -1.94214746e-01,\n",
       "         -2.29151413e-01, -6.85901195e-02, -1.85459822e-01,\n",
       "          2.88879454e-01,  8.77670646e-02, -4.30679321e-03,\n",
       "         -5.78614399e-02, -8.87797028e-02,  6.39370382e-02,\n",
       "          2.85058771e-03,  1.10908620e-01,  1.36630654e-01,\n",
       "          4.29590493e-02, -5.59851080e-02,  3.16350209e-03,\n",
       "          2.61685669e-01,  1.09774983e-02, -5.01154363e-02,\n",
       "          1.93647698e-01, -1.85613975e-01,  1.69672310e-01,\n",
       "         -4.12709117e-02,  1.92955941e-01, -2.11439818e-01,\n",
       "          9.71802175e-02,  4.28391397e-02, -1.48886740e-01,\n",
       "         -3.10087204e-03, -1.10048026e-01,  2.23530471e-01,\n",
       "          9.81238484e-02, -1.94115072e-01,  2.39950642e-01,\n",
       "          2.80883700e-01,  9.61084962e-02, -7.34029934e-02,\n",
       "          1.64886296e-01,  1.69647038e-01,  2.50172257e-01,\n",
       "         -3.04556668e-01,  1.96873695e-01,  2.48300701e-01,\n",
       "          3.06180805e-01, -2.57326692e-01,  9.58250165e-02,\n",
       "         -2.69865483e-01,  2.32262790e-01,  1.60110608e-01,\n",
       "          1.05458483e-01,  1.83443189e-01, -1.83476970e-01,\n",
       "          1.76402643e-01],\n",
       "        [-1.11471206e-01, -2.21242309e-01,  1.24368154e-01,\n",
       "         -1.07890111e-04,  2.22509921e-01,  6.15046024e-02,\n",
       "         -7.63002709e-02, -2.01694876e-01, -1.54811651e-01,\n",
       "         -2.08532959e-01, -2.63774753e-01, -2.63893098e-01,\n",
       "         -4.03183550e-02, -2.80453086e-01, -1.13143623e-02,\n",
       "         -8.97195786e-02,  1.00832671e-01, -1.01321042e-02,\n",
       "         -4.56201611e-03, -5.23196533e-02,  2.23791271e-01,\n",
       "          7.35384226e-02,  6.12423988e-03, -7.07263723e-02,\n",
       "          1.79365084e-01,  2.37649679e-02, -1.05772205e-01,\n",
       "         -9.44422707e-02, -2.29735821e-01,  6.12733066e-02,\n",
       "         -2.67804274e-03,  2.92895529e-02,  1.96373433e-01,\n",
       "         -2.00453028e-01,  9.34058055e-02, -9.84635353e-02,\n",
       "          1.04954064e-01, -1.26646221e-01, -3.72524895e-02,\n",
       "          1.26046181e-01, -2.37077668e-01,  1.98451787e-01,\n",
       "          2.44717941e-01, -6.79355189e-02,  1.87939912e-01,\n",
       "          1.51096746e-01,  1.05152547e-01, -1.00632176e-01,\n",
       "         -2.00357288e-01,  1.86454251e-01,  2.98378438e-01,\n",
       "          2.38680571e-01,  4.52468731e-02, -2.31505036e-02,\n",
       "          1.89380005e-01, -4.24414128e-02, -2.30270162e-01,\n",
       "         -1.27336755e-01,  3.54336984e-02, -1.04652576e-01,\n",
       "          2.59132177e-01, -2.66623527e-01, -2.17120856e-01,\n",
       "         -8.48857313e-02],\n",
       "        [ 2.64721453e-01,  1.09742790e-01, -2.22044557e-01,\n",
       "          2.72408664e-01, -2.73053706e-01,  1.56942815e-01,\n",
       "          2.77686685e-01,  1.67531967e-01, -9.90676880e-02,\n",
       "         -2.39305928e-01,  2.59223312e-01, -7.37989396e-02,\n",
       "          1.08754337e-02, -6.39198422e-02,  1.95889533e-01,\n",
       "         -2.70663410e-01,  1.64371312e-01,  1.45749331e-01,\n",
       "          9.25404206e-02,  2.10618541e-01,  2.52681226e-01,\n",
       "          3.01816221e-02, -1.23289876e-01, -1.25833124e-01,\n",
       "         -1.28135979e-01,  2.63769180e-01, -5.34180738e-02,\n",
       "          8.37168396e-02,  6.98366463e-02,  7.77152181e-02,\n",
       "          1.90010205e-01,  1.09383181e-01, -7.70800412e-02,\n",
       "          2.37992615e-01,  2.44297907e-02,  1.19493395e-01,\n",
       "          4.56132703e-02,  6.30704463e-02,  1.82988584e-01,\n",
       "          2.79594511e-01,  3.28389853e-01,  8.08058456e-02,\n",
       "          1.74763232e-01, -9.38823372e-02,  1.03473535e-03,\n",
       "         -3.43822896e-01, -7.31521845e-03, -2.64143586e-01,\n",
       "         -2.18241379e-01,  9.96092483e-02, -2.18460649e-01,\n",
       "          2.16002777e-01,  1.20206922e-01,  2.46308893e-01,\n",
       "         -1.82438463e-01, -1.45193815e-01, -5.05325943e-02,\n",
       "         -8.08632225e-02,  8.51103589e-02,  7.79964477e-02,\n",
       "          2.93868393e-01, -9.05153155e-03,  3.11425239e-01,\n",
       "          1.67763531e-01],\n",
       "        [ 1.28483310e-01, -2.12676048e-01, -1.32438958e-01,\n",
       "         -9.21900719e-02, -6.37479499e-02, -1.53313041e-01,\n",
       "         -2.23291561e-01,  4.06280756e-02, -8.98134559e-02,\n",
       "         -9.51677710e-02, -2.61713773e-01,  7.99451992e-02,\n",
       "         -1.57730237e-01, -2.19579637e-02, -7.83723742e-02,\n",
       "         -3.57587337e-02,  4.38787937e-02, -1.13434836e-01,\n",
       "          3.34710106e-02, -1.38676226e-01, -1.58800036e-01,\n",
       "          1.25818416e-01,  4.41952348e-02,  6.78752512e-02,\n",
       "         -1.50202632e-01,  3.60356867e-02,  1.50526628e-01,\n",
       "         -3.61981778e-03,  8.21988657e-02, -1.72921583e-01,\n",
       "         -1.22276515e-01,  2.49547005e-01,  9.53623652e-03,\n",
       "          9.39935669e-02,  1.50973633e-01, -5.02198935e-02,\n",
       "         -8.76522437e-02, -1.28698274e-01,  9.56708044e-02,\n",
       "         -5.29984832e-02,  1.66064262e-01, -1.22640744e-01,\n",
       "          1.77339509e-01,  2.14653715e-01,  2.19081432e-01,\n",
       "          5.67246936e-02, -1.33628383e-01,  2.51679420e-01,\n",
       "         -1.17741033e-01,  2.23216657e-02,  1.54827371e-01,\n",
       "          1.50897354e-01,  1.75509915e-01, -2.53921092e-01,\n",
       "         -2.88493007e-01, -2.76342869e-01,  1.58033282e-01,\n",
       "         -1.11807838e-01,  2.28187427e-01, -1.65168773e-02,\n",
       "         -6.60378039e-02, -2.16268912e-01,  1.30018353e-01,\n",
       "          5.78745604e-02]], dtype=float32),\n",
       " array([-0.01390905,  0.        , -0.0285023 , -0.03953564,  0.07183329,\n",
       "         0.        ,  0.02700687,  0.        ,  0.        , -0.00991007,\n",
       "        -0.04944241, -0.00320295,  0.        ,  0.        ,  0.        ,\n",
       "         0.03285903,  0.        ,  0.        , -0.04010135, -0.03567872,\n",
       "         0.        , -0.02009852,  0.02529984,  0.02178405,  0.00606068,\n",
       "         0.        , -0.03139747, -0.01469485, -0.02148703,  0.        ,\n",
       "         0.01639073, -0.02321894,  0.        , -0.03169005, -0.0074122 ,\n",
       "         0.        , -0.0097582 ,  0.        , -0.00700342,  0.        ,\n",
       "        -0.04517468,  0.00700031,  0.01104509, -0.02209838,  0.0260934 ,\n",
       "         0.04256357,  0.        , -0.04833624,  0.        ,  0.00923822,\n",
       "         0.05480461, -0.02704193, -0.01186674,  0.        ,  0.04045853,\n",
       "         0.        ,  0.        ,  0.        , -0.03096359,  0.02736743,\n",
       "        -0.01919491,  0.        ,  0.00765151,  0.02548813], dtype=float32),\n",
       " array([[ 0.00338926,  0.06494554, -0.01917472, ...,  0.16990723,\n",
       "         -0.01091004,  0.17400873],\n",
       "        [ 0.11036843, -0.21352094, -0.16895908, ..., -0.21121061,\n",
       "          0.01169968,  0.20144176],\n",
       "        [ 0.12077523,  0.0658167 ,  0.09167817, ..., -0.02416352,\n",
       "          0.2311192 ,  0.19566028],\n",
       "        ...,\n",
       "        [-0.00848049, -0.0352158 , -0.22365981, ..., -0.22366124,\n",
       "         -0.24878001, -0.06991816],\n",
       "        [-0.09746313, -0.01415288, -0.05275936, ...,  0.11372956,\n",
       "          0.19669595, -0.22003496],\n",
       "        [ 0.1263256 , -0.05669469,  0.01515627, ...,  0.14909907,\n",
       "         -0.21047242,  0.10738835]], dtype=float32),\n",
       " array([-0.004604  , -0.04102477, -0.02900584,  0.0281958 , -0.00518363,\n",
       "         0.02744931,  0.0280831 ,  0.        ,  0.02808015, -0.01808977,\n",
       "         0.        ,  0.04291477, -0.00322174,  0.        , -0.02946703,\n",
       "         0.        ,  0.03082439, -0.01120281, -0.00791041, -0.0191054 ,\n",
       "         0.02826223, -0.02186886, -0.02874378, -0.02498985,  0.00708474,\n",
       "        -0.0235258 ,  0.0205967 ,  0.        ,  0.01762463, -0.01866463,\n",
       "        -0.02895436,  0.03204152], dtype=float32),\n",
       " array([[ 0.00096652],\n",
       "        [ 0.16341957],\n",
       "        [ 0.1835032 ],\n",
       "        [-0.35068175],\n",
       "        [-0.4129463 ],\n",
       "        [-0.13859655],\n",
       "        [-0.32805082],\n",
       "        [ 0.19116223],\n",
       "        [-0.3689096 ],\n",
       "        [ 0.35751563],\n",
       "        [-0.11241046],\n",
       "        [-0.41158798],\n",
       "        [-0.38864455],\n",
       "        [ 0.34900534],\n",
       "        [ 0.17080176],\n",
       "        [-0.02601847],\n",
       "        [-0.07767199],\n",
       "        [ 0.00139619],\n",
       "        [-0.00248259],\n",
       "        [-0.23224752],\n",
       "        [-0.16517492],\n",
       "        [-0.400583  ],\n",
       "        [ 0.41417184],\n",
       "        [ 0.2112115 ],\n",
       "        [-0.24281688],\n",
       "        [ 0.34073538],\n",
       "        [-0.11360165],\n",
       "        [-0.34068093],\n",
       "        [-0.01426381],\n",
       "        [ 0.30119824],\n",
       "        [ 0.3576926 ],\n",
       "        [-0.29834202]], dtype=float32),\n",
       " array([-0.02860284], dtype=float32)]"
      ]
     },
     "execution_count": 28,
     "metadata": {},
     "output_type": "execute_result"
    }
   ],
   "source": [
    "model.get_weights()"
   ]
  },
  {
   "cell_type": "markdown",
   "metadata": {},
   "source": [
    "14. Store the model's training history as a Pandas DataFrame."
   ]
  },
  {
   "cell_type": "code",
   "execution_count": 30,
   "metadata": {},
   "outputs": [],
   "source": [
    "df=pd.DataFrame(history.history)"
   ]
  },
  {
   "cell_type": "code",
   "execution_count": 31,
   "metadata": {},
   "outputs": [
    {
     "data": {
      "text/html": [
       "<div>\n",
       "<style scoped>\n",
       "    .dataframe tbody tr th:only-of-type {\n",
       "        vertical-align: middle;\n",
       "    }\n",
       "\n",
       "    .dataframe tbody tr th {\n",
       "        vertical-align: top;\n",
       "    }\n",
       "\n",
       "    .dataframe thead th {\n",
       "        text-align: right;\n",
       "    }\n",
       "</style>\n",
       "<table border=\"1\" class=\"dataframe\">\n",
       "  <thead>\n",
       "    <tr style=\"text-align: right;\">\n",
       "      <th></th>\n",
       "      <th>loss</th>\n",
       "      <th>accuracy</th>\n",
       "      <th>val_loss</th>\n",
       "      <th>val_accuracy</th>\n",
       "    </tr>\n",
       "  </thead>\n",
       "  <tbody>\n",
       "    <tr>\n",
       "      <th>0</th>\n",
       "      <td>0.677661</td>\n",
       "      <td>0.624655</td>\n",
       "      <td>0.712806</td>\n",
       "      <td>0.546875</td>\n",
       "    </tr>\n",
       "    <tr>\n",
       "      <th>1</th>\n",
       "      <td>0.635208</td>\n",
       "      <td>0.622815</td>\n",
       "      <td>0.629834</td>\n",
       "      <td>0.625000</td>\n",
       "    </tr>\n",
       "    <tr>\n",
       "      <th>2</th>\n",
       "      <td>0.625258</td>\n",
       "      <td>0.643974</td>\n",
       "      <td>0.636205</td>\n",
       "      <td>0.614583</td>\n",
       "    </tr>\n",
       "    <tr>\n",
       "      <th>3</th>\n",
       "      <td>0.618962</td>\n",
       "      <td>0.649494</td>\n",
       "      <td>0.669091</td>\n",
       "      <td>0.619792</td>\n",
       "    </tr>\n",
       "    <tr>\n",
       "      <th>4</th>\n",
       "      <td>0.618703</td>\n",
       "      <td>0.659614</td>\n",
       "      <td>0.617569</td>\n",
       "      <td>0.645833</td>\n",
       "    </tr>\n",
       "  </tbody>\n",
       "</table>\n",
       "</div>"
      ],
      "text/plain": [
       "       loss  accuracy  val_loss  val_accuracy\n",
       "0  0.677661  0.624655  0.712806      0.546875\n",
       "1  0.635208  0.622815  0.629834      0.625000\n",
       "2  0.625258  0.643974  0.636205      0.614583\n",
       "3  0.618962  0.649494  0.669091      0.619792\n",
       "4  0.618703  0.659614  0.617569      0.645833"
      ]
     },
     "execution_count": 31,
     "metadata": {},
     "output_type": "execute_result"
    }
   ],
   "source": [
    "df.head()"
   ]
  },
  {
   "cell_type": "markdown",
   "metadata": {},
   "source": [
    "15. Plot the model's training history."
   ]
  },
  {
   "cell_type": "code",
   "execution_count": 32,
   "metadata": {},
   "outputs": [
    {
     "data": {
      "image/png": "[encoded data removed]",
      "text/plain": [
       "<Figure size 640x480 with 1 Axes>"
      ]
     },
     "metadata": {},
     "output_type": "display_data"
    }
   ],
   "source": [
    "import matplotlib.pyplot as plt\n",
    "df.plot()\n",
    "plt.show()"
   ]
  },
  {
   "cell_type": "markdown",
   "metadata": {},
   "source": [
    "16. Evaluate the model's performance using the test data."
   ]
  },
  {
   "cell_type": "code",
   "execution_count": 33,
   "metadata": {},
   "outputs": [
    {
     "name": "stdout",
     "output_type": "stream",
     "text": [
      "10/10 [==============================] - 0s 3ms/step - loss: 0.6453 - accuracy: 0.6719\n"
     ]
    },
    {
     "data": {
      "text/plain": [
       "[0.645348310470581, 0.671875]"
      ]
     },
     "execution_count": 33,
     "metadata": {},
     "output_type": "execute_result"
    }
   ],
   "source": [
    "model.evaluate(X_test,y_test)"
   ]
  }
 ],
 "metadata": {
  "kernelspec": {
   "display_name": "Python 3",
   "language": "python",
   "name": "python3"
  },
  "language_info": {
   "codemirror_mode": {
    "name": "ipython",
    "version": 3
   },
   "file_extension": ".py",
   "mimetype": "text/x-python",
   "name": "python",
   "nbconvert_exporter": "python",
   "pygments_lexer": "ipython3",
   "version": "3.10.11"
  },
  "orig_nbformat": 4
 },
 "nbformat": 4,
 "nbformat_minor": 2
}
